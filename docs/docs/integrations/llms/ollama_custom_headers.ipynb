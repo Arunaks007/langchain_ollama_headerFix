{
 "cells": [
  {
   "cell_type": "markdown",
   "id": "e9d14abc",
   "metadata": {},
   "source": [
    "# 🧠 Ollama Custom Headers Integration with LangChain\n",
    "\n",
    "This example demonstrates how to pass custom headers (e.g., for authorization or partner identification) when using Ollama models with LangChain."
   ]
  },
  {
   "cell_type": "code",
   "execution_count": null,
   "id": "a5884ba4",
   "metadata": {},
   "outputs": [],
   "source": [
    "from langchain_ollama import ChatOllama\n",
    "\n",
    "# ✅ Define your headers (e.g., for auth or partner token)\n",
    "custom_headers = {\n",
    "    \"Authorization\": \"Bearer YOUR_API_KEY\",\n",
    "    \"X-Custom-Partner\": \"partner-xyz\"\n",
    "}\n",
    "\n",
    "# ✅ Instantiate the Ollama LLM with headers\n",
    "llm = ChatOllama(\n",
    "    model=\"llama3.2:latest\",  # Replace with your model\n",
    "    base_url=\"http://your-remote-ollama-server:11434\",\n",
    "    headers=custom_headers\n",
    ")\n",
    "\n",
    "# ✅ Send a prompt\n",
    "response = llm.invoke(\"What is LangChain and how does it work with Ollama?\")\n",
    "print(response)"
   ]
  },
  {
   "cell_type": "markdown",
   "id": "62e2a036",
   "metadata": {},
   "source": [
    "### 📘 Output (example)\n",
    "```\n",
    "LangChain is a framework for building applications powered by language models. It provides integrations for prompt management, memory, agents, and tools. Using Ollama, LangChain can run open-source LLMs locally or on remote servers with advanced control, like passing headers for authentication.\n",
    "```"
   ]
  },
  {
   "cell_type": "markdown",
   "id": "d7bc6b26",
   "metadata": {},
   "source": [
    "### 📌 Notes\n",
    "- You can use this with any remote Ollama deployment that supports headers (e.g., behind a proxy, API gateway, or auth layer).\n",
    "- This is especially useful for **Ollama Partners** who require secure access control."
   ]
  }
 ],
 "metadata": {
  "language_info": {
   "name": "python"
  }
 },
 "nbformat": 4,
 "nbformat_minor": 5
}
